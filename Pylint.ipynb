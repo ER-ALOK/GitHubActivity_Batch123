{
 "cells": [
  {
   "cell_type": "code",
   "execution_count": 9,
   "id": "9c962326",
   "metadata": {},
   "outputs": [
    {
     "name": "stdout",
     "output_type": "stream",
     "text": [
      "Requirement already satisfied: pylint in c:\\users\\classroom 4\\anaconda3\\lib\\site-packages (2.9.6)\n",
      "Requirement already satisfied: mccabe<0.7,>=0.6 in c:\\users\\classroom 4\\anaconda3\\lib\\site-packages (from pylint) (0.6.1)\n",
      "Requirement already satisfied: astroid<2.7,>=2.6.5 in c:\\users\\classroom 4\\anaconda3\\lib\\site-packages (from pylint) (2.6.6)\n",
      "Requirement already satisfied: toml>=0.7.1 in c:\\users\\classroom 4\\anaconda3\\lib\\site-packages (from pylint) (0.10.2)\n",
      "Requirement already satisfied: isort<6,>=4.2.5 in c:\\users\\classroom 4\\anaconda3\\lib\\site-packages (from pylint) (5.9.3)\n",
      "Requirement already satisfied: colorama in c:\\users\\classroom 4\\anaconda3\\lib\\site-packages (from pylint) (0.4.4)\n",
      "Requirement already satisfied: setuptools>=20.0 in c:\\users\\classroom 4\\anaconda3\\lib\\site-packages (from astroid<2.7,>=2.6.5->pylint) (65.5.0)\n",
      "Requirement already satisfied: wrapt<1.13,>=1.11 in c:\\users\\classroom 4\\anaconda3\\lib\\site-packages (from astroid<2.7,>=2.6.5->pylint) (1.12.1)\n",
      "Requirement already satisfied: lazy-object-proxy>=1.4.0 in c:\\users\\classroom 4\\anaconda3\\lib\\site-packages (from astroid<2.7,>=2.6.5->pylint) (1.6.0)\n"
     ]
    },
    {
     "name": "stderr",
     "output_type": "stream",
     "text": [
      "\n",
      "[notice] A new release of pip available: 22.3 -> 22.3.1\n",
      "[notice] To update, run: python.exe -m pip install --upgrade pip\n"
     ]
    }
   ],
   "source": [
    "!pip install pylint"
   ]
  },
  {
   "cell_type": "code",
   "execution_count": 2,
   "id": "30ed9c8b",
   "metadata": {},
   "outputs": [
    {
     "name": "stdout",
     "output_type": "stream",
     "text": [
      "************* Module echo-client\n",
      "echo-client.py:1:0: C0103: Module name \"echo-client\" doesn't conform to snake_case naming style (invalid-name)\n",
      "echo-client.py:1:0: C0114: Missing module docstring (missing-module-docstring)\n",
      "\n",
      "-----------------------------------\n",
      "\n",
      "Your code has been rated at 7.50/10\n",
      "\n",
      "\n",
      "\n"
     ]
    }
   ],
   "source": [
    "!pylint echo-client.py"
   ]
  },
  {
   "cell_type": "code",
   "execution_count": 3,
   "id": "fae279f3",
   "metadata": {},
   "outputs": [
    {
     "name": "stdout",
     "output_type": "stream",
     "text": [
      "************* Module echo-server\n",
      "echo-server.py:1:0: C0103: Module name \"echo-server\" doesn't conform to snake_case naming style (invalid-name)\n",
      "echo-server.py:1:0: C0114: Missing module docstring (missing-module-docstring)\n",
      "\n",
      "-----------------------------------\n",
      "\n",
      "Your code has been rated at 8.57/10\n",
      "\n",
      "\n",
      "\n"
     ]
    }
   ],
   "source": [
    "!pylint echo-server.py"
   ]
  },
  {
   "cell_type": "code",
   "execution_count": 4,
   "id": "876692a7",
   "metadata": {},
   "outputs": [
    {
     "name": "stdout",
     "output_type": "stream",
     "text": [
      "************* Module multiconn-client\n",
      "multiconn-client.py:1:0: C0103: Module name \"multiconn-client\" doesn't conform to snake_case naming style (invalid-name)\n",
      "multiconn-client.py:1:0: C0114: Missing module docstring (missing-module-docstring)\n",
      "multiconn-client.py:12:0: C0116: Missing function or method docstring (missing-function-docstring)\n",
      "multiconn-client.py:12:22: W0621: Redefining name 'host' from outer scope (line 56) (redefined-outer-name)\n",
      "multiconn-client.py:12:28: W0621: Redefining name 'port' from outer scope (line 56) (redefined-outer-name)\n",
      "multiconn-client.py:12:34: W0621: Redefining name 'num_conns' from outer scope (line 56) (redefined-outer-name)\n",
      "multiconn-client.py:20:8: W0621: Redefining name 'events' from outer scope (line 61) (redefined-outer-name)\n",
      "multiconn-client.py:31:0: C0116: Missing function or method docstring (missing-function-docstring)\n",
      "multiconn-client.py:31:23: W0621: Redefining name 'key' from outer scope (line 63) (redefined-outer-name)\n",
      "multiconn-client.py:31:28: W0621: Redefining name 'mask' from outer scope (line 63) (redefined-outer-name)\n",
      "multiconn-client.py:56:0: W0632: Possible unbalanced tuple unpacking with sequence: left side has 3 label(s), right side has 0 value(s) (unbalanced-tuple-unpacking)\n",
      "\n",
      "-----------------------------------\n",
      "\n",
      "Your code has been rated at 7.92/10\n",
      "\n",
      "\n",
      "\n"
     ]
    }
   ],
   "source": [
    "!pylint multiconn-client.py"
   ]
  },
  {
   "cell_type": "code",
   "execution_count": 6,
   "id": "1716c9a4",
   "metadata": {},
   "outputs": [
    {
     "name": "stdout",
     "output_type": "stream",
     "text": [
      "************* Module multiconn-server\n",
      "multiconn-server.py:1:0: C0103: Module name \"multiconn-server\" doesn't conform to snake_case naming style (invalid-name)\n",
      "multiconn-server.py:1:0: C0114: Missing module docstring (missing-module-docstring)\n",
      "multiconn-server.py:11:0: C0116: Missing function or method docstring (missing-function-docstring)\n",
      "multiconn-server.py:16:4: W0621: Redefining name 'events' from outer scope (line 52) (redefined-outer-name)\n",
      "multiconn-server.py:20:0: C0116: Missing function or method docstring (missing-function-docstring)\n",
      "multiconn-server.py:20:23: W0621: Redefining name 'key' from outer scope (line 53) (redefined-outer-name)\n",
      "multiconn-server.py:20:28: W0621: Redefining name 'mask' from outer scope (line 53) (redefined-outer-name)\n",
      "\n",
      "-----------------------------------\n",
      "\n",
      "Your code has been rated at 8.54/10\n",
      "\n",
      "\n",
      "\n"
     ]
    }
   ],
   "source": [
    "!pylint multiconn-server.py"
   ]
  },
  {
   "cell_type": "code",
   "execution_count": 7,
   "id": "18263307",
   "metadata": {},
   "outputs": [
    {
     "name": "stdout",
     "output_type": "stream",
     "text": [
      "Writing echo_server.py\n"
     ]
    }
   ],
   "source": [
    "%%writefile echo_server.py\n",
    "# echo_server.py\n",
    "\"\"\"\n",
    "This is the socket server program.\n",
    "\"\"\"\n",
    "import socket\n",
    "\n",
    "HOST = \"127.0.0.1\"  # Standard loopback interface address (localhost)\n",
    "PORT = 65432  # Port to listen on (non-privileged ports are > 1023)\n",
    "\n",
    "with socket.socket(socket.AF_INET, socket.SOCK_STREAM) as s:\n",
    "    s.bind((HOST, PORT))\n",
    "    s.listen()\n",
    "    conn, addr = s.accept()\n",
    "    with conn:\n",
    "        print(f\"Connected by {addr}\")\n",
    "        while True:\n",
    "            data = conn.recv(1024)\n",
    "            if not data:\n",
    "                break\n",
    "            conn.sendall(data)"
   ]
  },
  {
   "cell_type": "code",
   "execution_count": 8,
   "id": "8018b3f3",
   "metadata": {},
   "outputs": [
    {
     "name": "stdout",
     "output_type": "stream",
     "text": [
      "\n",
      "------------------------------------\n",
      "\n",
      "Your code has been rated at 10.00/10\n",
      "\n",
      "\n",
      "\n"
     ]
    }
   ],
   "source": [
    "!pylint echo_server.py"
   ]
  },
  {
   "cell_type": "code",
   "execution_count": 12,
   "id": "b0ecf995",
   "metadata": {},
   "outputs": [
    {
     "name": "stdout",
     "output_type": "stream",
     "text": [
      "Requirement already satisfied: black in c:\\users\\classroom 4\\anaconda3\\lib\\site-packages (19.10b0)\n",
      "Requirement already satisfied: attrs>=18.1.0 in c:\\users\\classroom 4\\anaconda3\\lib\\site-packages (from black) (21.2.0)\n",
      "Requirement already satisfied: pathspec<1,>=0.6 in c:\\users\\classroom 4\\anaconda3\\lib\\site-packages (from black) (0.7.0)\n",
      "Requirement already satisfied: toml>=0.9.4 in c:\\users\\classroom 4\\anaconda3\\lib\\site-packages (from black) (0.10.2)\n",
      "Requirement already satisfied: appdirs in c:\\users\\classroom 4\\anaconda3\\lib\\site-packages (from black) (1.4.4)\n",
      "Requirement already satisfied: click>=6.5 in c:\\users\\classroom 4\\anaconda3\\lib\\site-packages (from black) (8.0.3)\n",
      "Requirement already satisfied: typed-ast>=1.4.0 in c:\\users\\classroom 4\\anaconda3\\lib\\site-packages (from black) (1.4.3)\n",
      "Requirement already satisfied: regex in c:\\users\\classroom 4\\anaconda3\\lib\\site-packages (from black) (2021.8.3)\n",
      "Requirement already satisfied: colorama in c:\\users\\classroom 4\\anaconda3\\lib\\site-packages (from click>=6.5->black) (0.4.4)\n"
     ]
    },
    {
     "name": "stderr",
     "output_type": "stream",
     "text": [
      "\n",
      "[notice] A new release of pip available: 22.3 -> 22.3.1\n",
      "[notice] To update, run: python.exe -m pip install --upgrade pip\n"
     ]
    }
   ],
   "source": [
    "!pip install black"
   ]
  },
  {
   "cell_type": "code",
   "execution_count": 13,
   "id": "35ee6e80",
   "metadata": {},
   "outputs": [
    {
     "name": "stderr",
     "output_type": "stream",
     "text": [
      "Downloading: https://github.com/drillan/jupyter-black/archive/master.zip -> C:\\Users\\CLASSR~1\\AppData\\Local\\Temp\\tmp18m3biki\\master.zip\n",
      "Extracting: C:\\Users\\CLASSR~1\\AppData\\Local\\Temp\\tmp18m3biki\\master.zip -> C:\\Users\\Classroom 4\\AppData\\Roaming\\jupyter\\nbextensions\n"
     ]
    }
   ],
   "source": [
    "!jupyter nbextension install https://github.com/drillan/jupyter-black/archive/master.zip --user"
   ]
  },
  {
   "cell_type": "code",
   "execution_count": 14,
   "id": "2a81a891",
   "metadata": {},
   "outputs": [
    {
     "name": "stderr",
     "output_type": "stream",
     "text": [
      "Enabling notebook extension jupyter-black-master/jupyter-black...\n",
      "      - Validating: ok\n"
     ]
    }
   ],
   "source": [
    "!jupyter nbextension enable jupyter-black-master/jupyter-black"
   ]
  },
  {
   "cell_type": "code",
   "execution_count": null,
   "id": "a154ed9c",
   "metadata": {},
   "outputs": [],
   "source": [
    "%%writefile echo-server.py\n",
    "# echo-server.py\n",
    "\n",
    "import socket\n",
    "\n",
    "HOST = \"127.0.0.1\"  # Standard loopback interface address (localhost)\n",
    "PORT = 65432  # Port to listen on (non-privileged ports are > 1023)\n",
    "\n",
    "with socket.socket(socket.AF_INET, socket.SOCK_STREAM) as s:\n",
    "    s.bind((HOST, PORT))\n",
    "    s.listen()\n",
    "    conn, addr = s.accept()\n",
    "    with conn:\n",
    "        print(f\"Connected by {addr}\")\n",
    "        while True:\n",
    "            data = conn.recv(1024)\n",
    "            if not data:\n",
    "                break\n",
    "            conn.sendall(data)"
   ]
  }
 ],
 "metadata": {
  "kernelspec": {
   "display_name": "Python 3 (ipykernel)",
   "language": "python",
   "name": "python3"
  },
  "language_info": {
   "codemirror_mode": {
    "name": "ipython",
    "version": 3
   },
   "file_extension": ".py",
   "mimetype": "text/x-python",
   "name": "python",
   "nbconvert_exporter": "python",
   "pygments_lexer": "ipython3",
   "version": "3.9.7"
  }
 },
 "nbformat": 4,
 "nbformat_minor": 5
}
